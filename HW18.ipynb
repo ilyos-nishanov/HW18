{
 "cells": [
  {
   "cell_type": "code",
   "execution_count": 2,
   "metadata": {},
   "outputs": [
    {
     "name": "stdout",
     "output_type": "stream",
     "text": [
      "   Names  Ages Professions\n",
      "0   John    25   Developer\n",
      "1   Jack    30    Designer\n",
      "2  Roman    22    Engineer\n",
      "3   Tony    28     Teacher\n"
     ]
    }
   ],
   "source": [
    "import pandas as pd\n",
    "\n",
    "# Define the data\n",
    "names = [\"John\", \"Jack\", \"Roman\", \"Tony\"]\n",
    "ages = [25, 30, 22, 28]\n",
    "professions= [\"Developer\", \"Designer\", \"Engineer\", \"Teacher\"]\n",
    "\n",
    "# Create the DataFrame\n",
    "df = pd.DataFrame({'Names': names, 'Ages': ages, 'Professions': professions})\n",
    "\n",
    "# Display the DataFrame\n",
    "print(df)"
   ]
  },
  {
   "cell_type": "code",
   "execution_count": 3,
   "metadata": {},
   "outputs": [
    {
     "name": "stdout",
     "output_type": "stream",
     "text": [
      "   Names  Ages Professions  Location\n",
      "0   John    25   Developer  New York\n",
      "1   Jack    30    Designer    London\n",
      "2  Roman    22    Engineer     Paris\n",
      "3   Tony    28     Teacher     Tokyo\n"
     ]
    }
   ],
   "source": [
    "# Add the 'Location' column\n",
    "locations = [\"New York\", \"London\", \"Paris\", \"Tokyo\"]\n",
    "df = df.assign(Location=locations)\n",
    "print(df)"
   ]
  },
  {
   "cell_type": "code",
   "execution_count": 10,
   "metadata": {},
   "outputs": [
    {
     "name": "stdout",
     "output_type": "stream",
     "text": [
      "  Names  Ages Professions Location\n",
      "1  Jack    30    Designer   London\n",
      "3  Tony    28     Teacher    Tokyo\n"
     ]
    }
   ],
   "source": [
    "#print those older than 25\n",
    "filtered_df = df[df['Ages'] > 25]\n",
    "print(filtered_df)"
   ]
  },
  {
   "cell_type": "code",
   "execution_count": 13,
   "metadata": {},
   "outputs": [
    {
     "name": "stdout",
     "output_type": "stream",
     "text": [
      "26.25\n",
      "30\n",
      "22\n"
     ]
    }
   ],
   "source": [
    "#Calculate the mean, maximum, and minimum values for the ages column.\n",
    "print(df.Ages.mean())\n",
    "print(df['Ages'].max())\n",
    "print(df.Ages.min())"
   ]
  },
  {
   "cell_type": "code",
   "execution_count": 14,
   "metadata": {},
   "outputs": [],
   "source": [
    "import os\n",
    "\n",
    "if not os.path.exists('tables'):\n",
    "    os.makedirs('tables')\n",
    "    \n",
    "# table1.csv\n",
    "data1 = {\n",
    "    'Name': ['John', 'Emily', 'Michael', 'Sarah'],\n",
    "    'Age': [35, 28, 42, 31],\n",
    "    'City': ['New York', 'Los Angeles', 'Chicago', 'San Francisco'],\n",
    "    'Occupation': ['Engineer', 'Designer', 'Manager', 'Analyst']\n",
    "}\n",
    "df1 = pd.DataFrame(data1)\n",
    "df1.to_csv('tables/table1.csv', index=False)\n",
    "\n",
    "# table2.csv\n",
    "data2 = {\n",
    "    'Product': ['Laptop', 'T-Shirt', 'Bicycle', 'Smartphone'],\n",
    "    'Price': [999.99, 29.99, 499.99, 799.99],\n",
    "    'Category': ['Electronics', 'Apparel', 'Sports', 'Electronics'],\n",
    "    'Quantity': [12, 45, 8, 20]\n",
    "}\n",
    "df2 = pd.DataFrame(data2)\n",
    "df2.to_csv('tables/table2.csv', index=False)\n",
    "\n",
    "# table3.csv\n",
    "data3 = {\n",
    "    'Student': ['Emma', 'Jacob', 'Olivia', 'Ethan'],\n",
    "    'Grade': [85, 92, 78, 88],\n",
    "    'Subject': ['Math', 'English', 'Science', 'History'],\n",
    "    'School': ['Central High', 'Riverside Academy', 'North Middle School', 'South Elementary']\n",
    "}\n",
    "df3 = pd.DataFrame(data3)\n",
    "df3.to_csv('tables/table3.csv', index=False)\n",
    "\n",
    "# table4.csv\n",
    "data4 = {\n",
    "    'Employee': ['Sarah', 'David', 'Sophia', 'Daniel'],\n",
    "    'Department': ['Finance', 'IT', 'Marketing', 'HR'],\n",
    "    'Salary': [65000, 85000, 55000, 70000],\n",
    "    'Years of Service': [7, 12, 3, 9]\n",
    "}\n",
    "df4 = pd.DataFrame(data4)\n",
    "df4.to_csv('tables/table4.csv', index=False)"
   ]
  },
  {
   "cell_type": "code",
   "execution_count": 15,
   "metadata": {},
   "outputs": [
    {
     "data": {
      "text/plain": [
       "4"
      ]
     },
     "execution_count": 15,
     "metadata": {},
     "output_type": "execute_result"
    }
   ],
   "source": [
    "#In folder, there are 4-5 CSV files. Load these files into SQLite db.\n",
    "import sqlite3\n",
    "connection = sqlite3.connect('HW18.db')\n",
    "df1 = pd.read_csv('tables/table1.csv')\n",
    "df2 = pd.read_csv('tables/table2.csv')\n",
    "df3 = pd.read_csv('tables/table3.csv')\n",
    "df4 = pd.read_csv('tables/table4.csv')\n",
    "\n",
    "#load df's to db\n",
    "df1.to_sql('tbl1', connection)\n",
    "df2.to_sql('tbl2', connection)\n",
    "df3.to_sql('tbl3', connection)\n",
    "df4.to_sql('tbl4', connection)"
   ]
  },
  {
   "cell_type": "code",
   "execution_count": null,
   "metadata": {},
   "outputs": [],
   "source": []
  }
 ],
 "metadata": {
  "kernelspec": {
   "display_name": "base",
   "language": "python",
   "name": "python3"
  },
  "language_info": {
   "codemirror_mode": {
    "name": "ipython",
    "version": 3
   },
   "file_extension": ".py",
   "mimetype": "text/x-python",
   "name": "python",
   "nbconvert_exporter": "python",
   "pygments_lexer": "ipython3",
   "version": "3.11.5"
  }
 },
 "nbformat": 4,
 "nbformat_minor": 2
}
